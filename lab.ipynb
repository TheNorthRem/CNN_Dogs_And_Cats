{
 "cells": [
  {
   "cell_type": "markdown",
   "metadata": {},
   "source": [
    "1. 预处理训练集，将训练集的猫与狗分为训练集和测试集，分别存放到对应的目录中"
   ]
  },
  {
   "cell_type": "markdown",
   "metadata": {},
   "source": [
    "创建目录"
   ]
  },
  {
   "cell_type": "code",
   "execution_count": null,
   "metadata": {},
   "outputs": [],
   "source": [
    "import os,shutil\n",
    "\n",
    "data_set_dir = './data_set'\n",
    "\n",
    "train_dir = './train'\n",
    "\n",
    "test_dir = './test'\n",
    "\n",
    "os.mkdir(train_dir)\n",
    "\n",
    "os.mkdir(test_dir)\n",
    "\n",
    "train_cats_dir = os.path.join(train_dir,'cats')\n",
    "\n",
    "os.mkdir(train_cats_dir)\n",
    "\n",
    "train_dogs_dir = os.path.join(train_dir,'dogs')\n",
    "\n",
    "os.mkdir(train_dogs_dir)\n"
   ]
  },
  {
   "cell_type": "markdown",
   "metadata": {},
   "source": [
    "训练数据迁移  划分 前 10000个为训练集 后2500个为测试集"
   ]
  },
  {
   "cell_type": "code",
   "execution_count": null,
   "metadata": {},
   "outputs": [],
   "source": [
    "def data_set_build(type,target_dir):\n",
    "\n",
    "    file_names = ['{}.{}.jpg'.format(type,i) for i in range (10000)]\n",
    "\n",
    "    for file_name in file_names :\n",
    "        src = os.path.join(data_set_dir,file_name)\n",
    "        dst = os.path.join(target_dir,file_name)\n",
    "        shutil.copyfile(src,dst)\n",
    "\n",
    "    file_names = ['{}.{}.jpg'.format(type,i) for i in range (10000,12500)]\n",
    "\n",
    "    for file_name in file_names :\n",
    "        src = os.path.join(data_set_dir,file_name)\n",
    "        dst = os.path.join(test_dir,file_name)\n",
    "        shutil.copyfile(src,dst)\n",
    "\n",
    "data_set_build('cat',train_cats_dir)\n",
    "data_set_build('dog',train_dogs_dir)"
   ]
  }
 ],
 "metadata": {
  "kernelspec": {
   "display_name": "base",
   "language": "python",
   "name": "python3"
  },
  "language_info": {
   "name": "python",
   "version": "3.10.9"
  }
 },
 "nbformat": 4,
 "nbformat_minor": 2
}
